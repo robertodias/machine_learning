{
 "cells": [
  {
   "cell_type": "markdown",
   "metadata": {},
   "source": [
    "## BUILDING A RECOMMENDER SYSTEM ON USER-USER COLLABORATIVE FILTERING (MOVIELENS DATASET)\n",
    "\n",
    "We will load the data sets firsts."
   ]
  },
  {
   "cell_type": "code",
   "execution_count": 12,
   "metadata": {},
   "outputs": [],
   "source": [
    "import pandas as pd\n",
    "import numpy as np\n",
    "import matplotlib.pyplot as plt\n",
    "import math\n",
    "\n",
    "#column headers for the dataset\n",
    "data_cols = ['user id','movie id','rating','timestamp']\n",
    "item_cols = ['movie id','movie title','release date','video release date','IMDb URL','unknown','Action',\n",
    "'Adventure','Animation','Childrens','Comedy','Crime','Documentary','Drama','Fantasy','Film-Noir','Horror',\n",
    "'Musical','Mystery','Romance ','Sci-Fi','Thriller','War' ,'Western']\n",
    "user_cols = ['user id','age','gender','occupation','zip code']\n",
    "\n",
    "#importing the data files onto dataframes\n",
    "users = pd.read_csv('ml-100k/u.user', sep='|', names=user_cols, encoding='latin-1')\n",
    "item = pd.read_csv('ml-100k/u.item', sep='|', names=item_cols, encoding='latin-1')\n",
    "data = pd.read_csv('ml-100k/u.data', sep='\\t', names=data_cols, encoding='latin-1')"
   ]
  },
  {
   "cell_type": "markdown",
   "metadata": {},
   "source": [
    "We will use the file u.data first as it contains User ID, Movie IDs and Ratings. These three elements are all we need for determining the similarity of the users based on their ratings for a particular movie. I will first sort the DataFrame by User ID and then we are going to split the data-set into a training set and a test set (I just need one user for the training)."
   ]
  },
  {
   "cell_type": "code",
   "execution_count": 13,
   "metadata": {},
   "outputs": [
    {
     "name": "stdout",
     "output_type": "stream",
     "text": [
      "       user id  movie id  rating  timestamp\n",
      "73676      942       479       4  891283118\n",
      "67222      942       604       4  891283139\n",
      "95675      942       478       5  891283017\n",
      "85822      942       659       5  891283161\n",
      "68192      942       487       4  891282985\n"
     ]
    }
   ],
   "source": [
    "utrain = (data.sort_values('user id'))[:99832]\n",
    "print(utrain.tail())"
   ]
  },
  {
   "cell_type": "code",
   "execution_count": 14,
   "metadata": {},
   "outputs": [
    {
     "name": "stdout",
     "output_type": "stream",
     "text": [
      "       user id  movie id  rating  timestamp\n",
      "91841      943       132       3  888639093\n",
      "91810      943       204       3  888639117\n",
      "77956      943        94       4  888639929\n",
      "87415      943        53       3  888640067\n",
      "77609      943       124       3  875501995\n"
     ]
    }
   ],
   "source": [
    "utest = (data.sort_values('user id'))[99833:]\n",
    "print(utest.head())"
   ]
  },
  {
   "cell_type": "markdown",
   "metadata": {},
   "source": [
    "We convert them to a NumPy Array for ease of iteration!"
   ]
  },
  {
   "cell_type": "code",
   "execution_count": 15,
   "metadata": {},
   "outputs": [],
   "source": [
    "utrain = utrain.as_matrix(columns = ['user id', 'movie id', 'rating'])\n",
    "utest = utest.as_matrix(columns = ['user id', 'movie id', 'rating'])"
   ]
  },
  {
   "cell_type": "markdown",
   "metadata": {},
   "source": [
    "Create a users_list which is a list of users that contains a list of movies rated by him. This part is going to greatly compromise on the program time unfortunately!"
   ]
  },
  {
   "cell_type": "code",
   "execution_count": 16,
   "metadata": {},
   "outputs": [],
   "source": [
    "users_list = []\n",
    "for i in range(1,943):\n",
    "    list = []\n",
    "    for j in range(0,len(utrain)):\n",
    "        if utrain[j][0] == i:\n",
    "            list.append(utrain[j])    \n",
    "        else:\n",
    "            break\n",
    "    utrain = utrain[j:]\n",
    "    users_list.append(list) "
   ]
  },
  {
   "cell_type": "markdown",
   "metadata": {},
   "source": [
    "Define a Function by the Name of EucledianScore. The purpose of the EucledianScore is to measure the similarity between two users based on their ratings given to movies that they have both in common. But what if the users have just one movie in common? In my opinion having more movies in common is a great sign of similarity. So if users have less than 4 movies in common then we assign them a high EucledianScore."
   ]
  },
  {
   "cell_type": "code",
   "execution_count": 17,
   "metadata": {},
   "outputs": [],
   "source": [
    "def EucledianScore(train_user, test_user):\n",
    "    sum = 0\n",
    "    count = 0\n",
    "    for i in test_user:\n",
    "        score = 0\n",
    "        for j in train_user:\n",
    "            if(int(i[1]) == int(j[1])):\n",
    "                score= ((float(i[2])-float(j[2]))*(float(i[2])-float(j[2])))\n",
    "                count= count + 1        \n",
    "            sum = sum + score\n",
    "    if(count<4):\n",
    "        sum = 1000000           \n",
    "    return(math.sqrt(sum))"
   ]
  },
  {
   "cell_type": "markdown",
   "metadata": {},
   "source": [
    "Now we will iterate over users_list and find the similarity of the users to the test_user by means of this function and append the EucledianScore along with the User ID to a separate list score_list. We then convert it first to a DataFrame, sort it by the EucledianScore and finally convert it to a NumPy Array score_matrix for the ease of iteration."
   ]
  },
  {
   "cell_type": "code",
   "execution_count": 18,
   "metadata": {},
   "outputs": [
    {
     "name": "stdout",
     "output_type": "stream",
     "text": [
      "     user id  Eucledian Score\n",
      "309      310         1.732051\n",
      "138      139         3.872983\n",
      "45        46         4.000000\n",
      "208      209         4.242641\n",
      "557      558         4.582576\n",
      "724      725         4.690416\n",
      "305      306         5.000000\n",
      "241      242         5.000000\n",
      "676      677         5.099020\n",
      "265      266         5.196152\n",
      "303      304         5.656854\n",
      "753      754         5.744563\n",
      "3          4         5.830952\n",
      "798      799         6.000000\n",
      "375      376         6.164414\n",
      "796      797         6.244998\n",
      "28        29         6.403124\n",
      "799      800         6.557439\n",
      "463      464         6.633250\n",
      "515      516         6.708204\n",
      "227      228         6.928203\n",
      "438      439         7.000000\n",
      "743      744         7.348469\n",
      "580      581         7.416198\n",
      "648      649         7.483315\n",
      "203      204         7.483315\n",
      "894      895         7.745967\n",
      "875      876         7.810250\n",
      "364      365         8.000000\n",
      "52        53         8.000000\n",
      "..       ...              ...\n",
      "650      651      1000.000000\n",
      "651      652      1000.000000\n",
      "655      656      1000.000000\n",
      "148      149      1000.000000\n",
      "661      662      1000.000000\n",
      "146      147      1000.000000\n",
      "145      146      1000.000000\n",
      "672      673      1000.000000\n",
      "142      143      1000.000000\n",
      "674      675      1000.000000\n",
      "280      281      1000.000000\n",
      "281      282      1000.000000\n",
      "139      140      1000.000000\n",
      "680      681      1000.000000\n",
      "133      134      1000.000000\n",
      "283      284      1000.000000\n",
      "684      685      1000.000000\n",
      "686      687      1000.000000\n",
      "687      688      1000.000000\n",
      "132      133      1000.000000\n",
      "128      129      1000.000000\n",
      "125      126      1000.000000\n",
      "383      384      1000.000000\n",
      "712      713      1000.000000\n",
      "111      112      1000.000000\n",
      "110      111      1000.000000\n",
      "719      720      1000.000000\n",
      "106      107      1000.000000\n",
      "104      105      1000.000000\n",
      "694      695      1000.000000\n",
      "\n",
      "[942 rows x 2 columns]\n"
     ]
    }
   ],
   "source": [
    "score_list = []               \n",
    "for i in range(0,942):\n",
    "    score_list.append([i+1,EucledianScore(users_list[i], utest)])\n",
    "\n",
    "score = pd.DataFrame(score_list, columns = ['user id','Eucledian Score'])\n",
    "score = score.sort_values(by = 'Eucledian Score')\n",
    "print(score)\n",
    "score_matrix = score.as_matrix()"
   ]
  },
  {
   "cell_type": "markdown",
   "metadata": {},
   "source": [
    "Now we see that the user with ID 310 has the lowest Eucledian score and hence the highest similarity. So now we need to obtain the list of movies that are not common between the two users. Make two lists. Get the full list of movies which are there on USER_ID 310. And then the list of common movies. Convert these lists into sets and get the list of movies to be recommended."
   ]
  },
  {
   "cell_type": "code",
   "execution_count": 19,
   "metadata": {},
   "outputs": [],
   "source": [
    "user= int(score_matrix[0][0])\n",
    "common_list = []\n",
    "full_list = []\n",
    "for i in utest:\n",
    "    for j in users_list[user-1]:\n",
    "        if(int(i[1])== int(j[1])):\n",
    "            common_list.append(int(j[1]))\n",
    "        full_list.append(j[1])\n",
    "\n",
    "common_list = set(common_list)  \n",
    "full_list = set(full_list)\n",
    "recommendation = full_list.difference(common_list)"
   ]
  },
  {
   "cell_type": "markdown",
   "metadata": {},
   "source": [
    "Now we need to create a compiled list of the movies along with their mean ratings. Merge the item and data files.Then groupby movie titles, select the columns you need and then find the mean ratings of each movie. Then express the dataframe as a NumPy Array."
   ]
  },
  {
   "cell_type": "code",
   "execution_count": 20,
   "metadata": {},
   "outputs": [],
   "source": [
    "item_list = (((pd.merge(item,data).sort_values(by = 'movie id')).groupby('movie title')))['movie id', 'movie title', 'rating']\n",
    "item_list = item_list.mean()\n",
    "item_list['movie title'] = item_list.index\n",
    "item_list = item_list.as_matrix()"
   ]
  },
  {
   "cell_type": "markdown",
   "metadata": {},
   "source": [
    "Now we find the movies on item_list by IDs from recommendation. Then append them to a separate list."
   ]
  },
  {
   "cell_type": "code",
   "execution_count": 21,
   "metadata": {},
   "outputs": [
    {
     "name": "stdout",
     "output_type": "stream",
     "text": [
      "    mean rating                                        movie title\n",
      "9      4.292929                                Citizen Kane (1941)\n",
      "8      4.125000                              A Chef in Love (1996)\n",
      "15     4.000000                            Butcher Boy, The (1998)\n",
      "6      3.930514          Indiana Jones and the Last Crusade (1989)\n",
      "4      3.839050                                 Chasing Amy (1997)\n",
      "3      3.792899                         In the Line of Fire (1993)\n",
      "10     3.648352                                      Casino (1995)\n",
      "12     3.600000                         Murder in the First (1995)\n",
      "5      3.545455                                     Stalker (1979)\n",
      "14     3.166667  Flower of My Secret, The (Flor de mi secreto, ...\n",
      "11     3.105263                                    Bad Boys (1995)\n",
      "16     2.802632                      Brady Bunch Movie, The (1995)\n",
      "0      2.750000                           Ladybird Ladybird (1994)\n",
      "13     2.720930                               Pete's Dragon (1977)\n",
      "2      2.413793                              Canadian Bacon (1994)\n",
      "7      2.285714          Last Time I Committed Suicide, The (1997)\n",
      "1      2.000000                               Calendar Girl (1993)\n"
     ]
    }
   ],
   "source": [
    "recommendation_list = []\n",
    "for i in recommendation:\n",
    "    recommendation_list.append(item_list[i-1])\n",
    "    \n",
    "recommendation = (pd.DataFrame(recommendation_list,columns = ['movie id','mean rating' ,'movie title'])).sort_values(by = 'mean rating', ascending = False)\n",
    "print(recommendation[['mean rating','movie title']])"
   ]
  },
  {
   "cell_type": "code",
   "execution_count": null,
   "metadata": {},
   "outputs": [],
   "source": []
  }
 ],
 "metadata": {
  "kernelspec": {
   "display_name": "Python 2",
   "language": "python",
   "name": "python2"
  },
  "language_info": {
   "codemirror_mode": {
    "name": "ipython",
    "version": 2
   },
   "file_extension": ".py",
   "mimetype": "text/x-python",
   "name": "python",
   "nbconvert_exporter": "python",
   "pygments_lexer": "ipython2",
   "version": "2.7.14"
  }
 },
 "nbformat": 4,
 "nbformat_minor": 2
}
